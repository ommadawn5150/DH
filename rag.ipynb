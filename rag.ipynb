{
 "cells": [
  {
   "cell_type": "code",
   "execution_count": 3,
   "metadata": {},
   "outputs": [],
   "source": [
    "import pickle\n",
    "import os\n",
    "\n",
    "# For download embeddings model\n",
    "from huggingface_hub import snapshot_download\n",
    "\n",
    "# For embeddings and vector stores\n",
    "from langchain_huggingface.embeddings import HuggingFaceEmbeddings\n",
    "from langchain.vectorstores import FAISS\n",
    "from langchain.indexes import VectorstoreIndexCreator\n",
    "from langchain.text_splitter import CharacterTextSplitter\n",
    "from langchain.vectorstores import Chroma\n",
    "\n",
    "%load_ext autoreload\n",
    "%autoreload 2"
   ]
  },
  {
   "cell_type": "markdown",
   "metadata": {},
   "source": [
    "# Settings"
   ]
  },
  {
   "cell_type": "code",
   "execution_count": 187,
   "metadata": {},
   "outputs": [],
   "source": [
    "embeddings_model_name = \"intfloat/multilingual-e5-large-instruct\"\n",
    "embeddings_path = f\"./embedding_model/{embeddings_model_name}\""
   ]
  },
  {
   "cell_type": "markdown",
   "metadata": {},
   "source": [
    "# Extract txts from Website\n"
   ]
  },
  {
   "cell_type": "markdown",
   "metadata": {},
   "source": [
    "In this notebook, I will show you how to extract text from a website using the BeautifulSoup library in Python.  \n",
    "BeautifulSoup is a Python library that is used to extract data from HTML and XML files. It provides a simple way to navigate the HTML document and extract the data you need.  \n",
    "From 'https://home.cern/science', I extract the links about the science topics and insert them into a list `urls`."
   ]
  },
  {
   "cell_type": "code",
   "execution_count": null,
   "metadata": {},
   "outputs": [],
   "source": [
    "import bs4\n",
    "import requests\n",
    "\n",
    "search_urls = ['https://home.cern',\n",
    "                'https://home.cern/science/physics',\n",
    "                'https://home.cern/science/accelerators',\n",
    "                'https://home.cern/science/engineering',\n",
    "                'https://home.cern/science/experiments',\n",
    "                'https://home.cern/science/computing'\n",
    "                ]\n",
    "urls = []\n",
    "for url in search_urls:\n",
    "    response = requests.get(url)\n",
    "    soup = bs4.BeautifulSoup(response.text, 'html.parser')\n",
    "    links = soup.find_all('a')\n",
    "    links = [link.get('href') for link in links if link.get('href') is not None]\n",
    "    for l in links:\n",
    "        if l.startswith('http') and 'science' in l:\n",
    "            urls.append(l)\n",
    "        elif l not in urls and 'science' in l:\n",
    "            urls.append('https://home.cern' + l)\n",
    "        \n",
    "tmp = []\n",
    "for _url in urls:\n",
    "    if _url not in tmp:\n",
    "        tmp.append(_url)\n",
    "urls = tmp"
   ]
  },
  {
   "cell_type": "code",
   "execution_count": 217,
   "metadata": {},
   "outputs": [
    {
     "data": {
      "text/plain": [
       "'https://home.cern/science/computing'"
      ]
     },
     "execution_count": 217,
     "metadata": {},
     "output_type": "execute_result"
    }
   ],
   "source": [
    "url"
   ]
  },
  {
   "cell_type": "code",
   "execution_count": 230,
   "metadata": {},
   "outputs": [
    {
     "data": {
      "text/plain": [
       "['https://home.cern/science/physics/higgs-boson',\n",
       " 'https://home.cern/science/physics/w-boson-sunshine-and-stardust',\n",
       " 'https://home.cern/science/physics/z-boson',\n",
       " 'https://home.cern/science/accelerators/large-hadron-collider',\n",
       " 'https://home.cern/science/computing/birth-web',\n",
       " 'https://home.cern/science/physics/antimatter',\n",
       " 'https://home.cern/science',\n",
       " 'https://home.cern/science/physics',\n",
       " 'https://home.cern/science/physics/dark-matter',\n",
       " 'https://home.cern/science/physics/early-universe',\n",
       " 'https://home.cern/science/physics/standard-model',\n",
       " 'https://home.cern/science/accelerators',\n",
       " 'https://home.cern/science/accelerators/accelerator-complex',\n",
       " 'https://home.cern/science/accelerators/antiproton-decelerator',\n",
       " 'https://home.cern/science/accelerators/high-luminosity-lhc',\n",
       " 'https://home.cern/science/engineering',\n",
       " 'https://home.cern/science/engineering/accelerating-radiofrequency-cavities',\n",
       " 'https://home.cern/science/engineering/pulling-together-superconducting-electromagnets',\n",
       " 'https://home.cern/science/engineering/vacuum-empty-interstellar-space',\n",
       " 'https://home.cern/science/engineering/cryogenics-low-temperatures-high-performance',\n",
       " 'https://home.cern/science/engineering/powering-cern',\n",
       " 'https://home.cern/science/computing',\n",
       " 'https://home.cern/science/computing/data-centre',\n",
       " 'https://home.cern/science/computing/grid',\n",
       " 'https://home.cern/science/computing/cern-openlab',\n",
       " 'https://home.cern/science/computing/open-source-open-science',\n",
       " 'https://home.cern/science/experiments',\n",
       " 'https://home.cern/science/experiments/alice',\n",
       " 'https://home.cern/science/experiments/atlas',\n",
       " 'https://home.cern/science/experiments/cms',\n",
       " 'https://home.cern/science/experiments/lhcb',\n",
       " 'https://home.cern/science/accelerators/accelerator-complex/panoramas',\n",
       " 'https://home.cernhttps://home.cern/user/login?destination=science/physics',\n",
       " 'https://home.cern/fr/science/physics',\n",
       " 'https://home.cernhttps://home.web.cern.ch/science/physics/standard-model',\n",
       " 'https://home.cern/science/physics/heavy-ions-and-quark-gluon-plasma',\n",
       " 'https://home.cern/science/physics/matter-antimatter-asymmetry-problem',\n",
       " 'https://home.cern/science/physics/cosmic-rays-particles-outer-space',\n",
       " 'https://home.cern/science/physics/supersymmetry',\n",
       " 'https://home.cern/science/physics/compositeness',\n",
       " 'https://home.cern/science/physics/unified-forces',\n",
       " 'https://home.cern/science/physics/extra-dimensions-gravitons-and-tiny-black-holes',\n",
       " 'https://home.cernhttps://home.cern/user/login?destination=science/accelerators',\n",
       " 'https://home.cern/fr/science/accelerators',\n",
       " 'https://home.cern/science/accelerators/how-accelerator-works',\n",
       " 'https://home.cern/science/engineering/restarting-lhc-why-13-tev',\n",
       " 'https://home.cern/science/accelerators/linear-accelerator-4',\n",
       " 'https://home.cern/science/accelerators/proton-synchrotron-booster',\n",
       " 'https://home.cern/science/accelerators/linear-accelerator-3',\n",
       " 'https://home.cern/science/accelerators/low-energy-ion-ring',\n",
       " 'https://home.cern/science/accelerators/super-proton-synchrotron',\n",
       " 'https://home.cern/science/accelerators/clear',\n",
       " 'https://home.cern/science/accelerators/proton-synchrotron',\n",
       " 'https://home.cern/science/accelerators/large-electron-positron-collider',\n",
       " 'https://home.cern/science/accelerators/future-circular-collider',\n",
       " 'https://home.cern/science/accelerators/compact-linear-collider',\n",
       " 'https://home.cern/science/accelerators/muon-collider',\n",
       " 'https://home.cern/science/accelerators/awake',\n",
       " 'https://home.cern/science/accelerators/synchrocyclotron',\n",
       " 'https://home.cern/science/accelerators/cern-neutrinos-gran-sasso',\n",
       " 'https://home.cern/science/accelerators/low-energy-antiproton-ring',\n",
       " 'https://home.cern/science/accelerators/intersecting-storage-rings',\n",
       " 'https://home.cern/science/accelerators/linear-accelerator-1',\n",
       " 'https://home.cern/science/accelerators/linear-accelerator-2',\n",
       " 'https://home.cernhttps://home.cern/user/login?destination=science/engineering',\n",
       " 'https://home.cern/fr/science/engineering',\n",
       " 'https://home.cernhttps://home-evergreen.web.cern.ch/science/physics',\n",
       " 'https://home.cernhttps://home-evergreen.web.cern.ch/science/experiments/how-detector-works',\n",
       " 'https://home.cern/science/engineering/stochastic-cooling',\n",
       " 'https://home.cern/science/physics/antimatter/storing-antihydrogen',\n",
       " 'https://home.cernhttps://home.cern/user/login?destination=science/experiments',\n",
       " 'https://home.cern/fr/science/experiments',\n",
       " 'https://home.cern/science/experiments/isolde',\n",
       " 'https://home.cern/science/experiments/how-detector-works',\n",
       " 'https://home.cern/science/experiments/totem',\n",
       " 'https://home.cern/science/experiments/lhcf',\n",
       " 'https://home.cern/science/experiments/moedal',\n",
       " 'https://home.cern/science/experiments/faser',\n",
       " 'https://home.cern/science/experiments/sndlhc',\n",
       " 'https://home.cern/science/experiments/moedal-mapp',\n",
       " 'https://home.cern/science/experiments/compass',\n",
       " 'https://home.cern/science/experiments/na61shine',\n",
       " 'https://home.cern/science/experiments/na62',\n",
       " 'https://home.cern/science/experiments/na63',\n",
       " 'https://home.cern/science/experiments/na64',\n",
       " 'https://home.cern/science/experiments/na65',\n",
       " 'https://home.cern/science/experiments/ua9',\n",
       " 'https://home.cern/science/experiments/cloud',\n",
       " 'https://home.cern/science/experiments/dirac',\n",
       " 'https://home.cern/science/experiments/aegis',\n",
       " 'https://home.cern/science/experiments/alpha',\n",
       " 'https://home.cern/science/experiments/asacusa',\n",
       " 'https://home.cern/science/experiments/base',\n",
       " 'https://home.cern/science/experiments/gbar',\n",
       " 'https://home.cern/science/experiments/puma',\n",
       " 'https://home.cern/science/experiments/atrap',\n",
       " 'https://home.cern/science/experiments/ace',\n",
       " 'https://home.cern/science/experiments/medicis',\n",
       " 'https://home.cern/science/experiments/ntof',\n",
       " 'https://home.cern/science/experiments/cern-neutrino-platform',\n",
       " 'https://home.cern/science/experiments/n_tof',\n",
       " 'https://home.cern/science/experiments/ams',\n",
       " 'https://home.cern/science/experiments/cast',\n",
       " 'https://home.cern/science/experiments/osqar',\n",
       " 'https://home.cern/science/experiments/gargamelle',\n",
       " 'https://home.cern/science/experiments/ua1',\n",
       " 'https://home.cern/science/experiments/ua2',\n",
       " 'https://home.cern/science/experiments/aleph',\n",
       " 'https://home.cern/science/experiments/delphi',\n",
       " 'https://home.cern/science/experiments/l3',\n",
       " 'https://home.cern/science/experiments/opal',\n",
       " 'https://home.cernhttps://home.cern/user/login?destination=science/computing',\n",
       " 'https://home.cern/fr/science/computing',\n",
       " 'https://home.cern/science/computing/storage',\n",
       " 'https://home.cern/science/computing/network',\n",
       " 'https://home.cern/science/computing/data-preservation',\n",
       " 'https://home.cern/science/computing/volunteer-computing',\n",
       " 'https://home.cern/science/computing/net-neutrality']"
      ]
     },
     "execution_count": 230,
     "metadata": {},
     "output_type": "execute_result"
    }
   ],
   "source": [
    "urls"
   ]
  },
  {
   "cell_type": "markdown",
   "metadata": {},
   "source": [
    "Reading the text in the `urls` from the website by using `UnstructedURLLoader`."
   ]
  },
  {
   "cell_type": "markdown",
   "metadata": {},
   "source": [
    "# DB establishment"
   ]
  },
  {
   "cell_type": "markdown",
   "metadata": {},
   "source": [
    "## Download the embeddigns model"
   ]
  },
  {
   "cell_type": "markdown",
   "metadata": {},
   "source": [
    "Download the embeddings model from the Hugging Face model hub."
   ]
  },
  {
   "cell_type": "code",
   "execution_count": 225,
   "metadata": {},
   "outputs": [
    {
     "name": "stdout",
     "output_type": "stream",
     "text": [
      "Model already exists.\n"
     ]
    }
   ],
   "source": [
    "if os.path.isfile(f\"embedding_model/{embeddings_model_name}/config.json\"):\n",
    "    print(\"Model already exists.\")\n",
    "else:\n",
    "    download_path = snapshot_download(\n",
    "        repo_id=embeddings_model_name,\n",
    "        local_dir = f\"embedding_model/{embeddings_model_name}\",\n",
    "        local_dir_use_symlinks=False # If you want to use symlinks, set this to True\n",
    "        )"
   ]
  },
  {
   "cell_type": "markdown",
   "metadata": {},
   "source": [
    "## Make retriever"
   ]
  },
  {
   "cell_type": "code",
   "execution_count": 233,
   "metadata": {},
   "outputs": [],
   "source": [
    "import langchain_community.document_loaders\n",
    "\n",
    "loader = langchain_community.document_loaders.UnstructuredURLLoader(\n",
    "    urls=urls\n",
    ")"
   ]
  },
  {
   "cell_type": "code",
   "execution_count": 234,
   "metadata": {},
   "outputs": [
    {
     "name": "stderr",
     "output_type": "stream",
     "text": [
      "Error fetching or processing https://home.cernhttps://home.cern/user/login?destination=science/physics, exception: HTTPSConnectionPool(host='home.cernhttps', port=443): Max retries exceeded with url: /home.cern/user/login?destination=science/physics (Caused by NameResolutionError(\"<urllib3.connection.HTTPSConnection object at 0x448572f20>: Failed to resolve 'home.cernhttps' ([Errno 8] nodename nor servname provided, or not known)\"))\n",
      "Error fetching or processing https://home.cernhttps://home.web.cern.ch/science/physics/standard-model, exception: HTTPSConnectionPool(host='home.cernhttps', port=443): Max retries exceeded with url: /home.web.cern.ch/science/physics/standard-model (Caused by NameResolutionError(\"<urllib3.connection.HTTPSConnection object at 0x448567820>: Failed to resolve 'home.cernhttps' ([Errno 8] nodename nor servname provided, or not known)\"))\n",
      "Error fetching or processing https://home.cernhttps://home.cern/user/login?destination=science/accelerators, exception: HTTPSConnectionPool(host='home.cernhttps', port=443): Max retries exceeded with url: /home.cern/user/login?destination=science/accelerators (Caused by NameResolutionError(\"<urllib3.connection.HTTPSConnection object at 0x448573d00>: Failed to resolve 'home.cernhttps' ([Errno 8] nodename nor servname provided, or not known)\"))\n",
      "Error fetching or processing https://home.cernhttps://home.cern/user/login?destination=science/engineering, exception: HTTPSConnectionPool(host='home.cernhttps', port=443): Max retries exceeded with url: /home.cern/user/login?destination=science/engineering (Caused by NameResolutionError(\"<urllib3.connection.HTTPSConnection object at 0x44857df60>: Failed to resolve 'home.cernhttps' ([Errno 8] nodename nor servname provided, or not known)\"))\n",
      "Error fetching or processing https://home.cernhttps://home-evergreen.web.cern.ch/science/physics, exception: HTTPSConnectionPool(host='home.cernhttps', port=443): Max retries exceeded with url: /home-evergreen.web.cern.ch/science/physics (Caused by NameResolutionError(\"<urllib3.connection.HTTPSConnection object at 0x44857e8c0>: Failed to resolve 'home.cernhttps' ([Errno 8] nodename nor servname provided, or not known)\"))\n",
      "Error fetching or processing https://home.cernhttps://home-evergreen.web.cern.ch/science/experiments/how-detector-works, exception: HTTPSConnectionPool(host='home.cernhttps', port=443): Max retries exceeded with url: /home-evergreen.web.cern.ch/science/experiments/how-detector-works (Caused by NameResolutionError(\"<urllib3.connection.HTTPSConnection object at 0x44857d2d0>: Failed to resolve 'home.cernhttps' ([Errno 8] nodename nor servname provided, or not known)\"))\n",
      "Error fetching or processing https://home.cernhttps://home.cern/user/login?destination=science/experiments, exception: HTTPSConnectionPool(host='home.cernhttps', port=443): Max retries exceeded with url: /home.cern/user/login?destination=science/experiments (Caused by NameResolutionError(\"<urllib3.connection.HTTPSConnection object at 0x448572fe0>: Failed to resolve 'home.cernhttps' ([Errno 8] nodename nor servname provided, or not known)\"))\n",
      "Error fetching or processing https://home.cernhttps://home.cern/user/login?destination=science/computing, exception: HTTPSConnectionPool(host='home.cernhttps', port=443): Max retries exceeded with url: /home.cern/user/login?destination=science/computing (Caused by NameResolutionError(\"<urllib3.connection.HTTPSConnection object at 0x448567700>: Failed to resolve 'home.cernhttps' ([Errno 8] nodename nor servname provided, or not known)\"))\n"
     ]
    }
   ],
   "source": [
    "docs = loader.load()"
   ]
  },
  {
   "cell_type": "code",
   "execution_count": null,
   "metadata": {},
   "outputs": [],
   "source": [
    "with open(\"docs.pkl\", \"wb\") as f:\n",
    "    pickle.dump(docs, f)"
   ]
  },
  {
   "cell_type": "code",
   "execution_count": 235,
   "metadata": {},
   "outputs": [
    {
     "name": "stderr",
     "output_type": "stream",
     "text": [
      "Created a chunk of size 550, which is longer than the specified 512\n",
      "Created a chunk of size 565, which is longer than the specified 512\n",
      "Created a chunk of size 771, which is longer than the specified 512\n",
      "Created a chunk of size 552, which is longer than the specified 512\n",
      "Created a chunk of size 586, which is longer than the specified 512\n",
      "Created a chunk of size 617, which is longer than the specified 512\n",
      "Created a chunk of size 584, which is longer than the specified 512\n",
      "Created a chunk of size 826, which is longer than the specified 512\n",
      "Created a chunk of size 805, which is longer than the specified 512\n",
      "Created a chunk of size 575, which is longer than the specified 512\n",
      "Created a chunk of size 926, which is longer than the specified 512\n",
      "Created a chunk of size 999, which is longer than the specified 512\n",
      "Created a chunk of size 713, which is longer than the specified 512\n",
      "Created a chunk of size 1203, which is longer than the specified 512\n",
      "Created a chunk of size 699, which is longer than the specified 512\n",
      "Created a chunk of size 1554, which is longer than the specified 512\n",
      "Created a chunk of size 641, which is longer than the specified 512\n",
      "Created a chunk of size 544, which is longer than the specified 512\n",
      "Created a chunk of size 727, which is longer than the specified 512\n",
      "Created a chunk of size 660, which is longer than the specified 512\n",
      "Created a chunk of size 609, which is longer than the specified 512\n",
      "Created a chunk of size 554, which is longer than the specified 512\n",
      "Created a chunk of size 637, which is longer than the specified 512\n",
      "Created a chunk of size 721, which is longer than the specified 512\n",
      "Created a chunk of size 519, which is longer than the specified 512\n",
      "Created a chunk of size 513, which is longer than the specified 512\n",
      "Created a chunk of size 566, which is longer than the specified 512\n",
      "Created a chunk of size 655, which is longer than the specified 512\n",
      "Created a chunk of size 531, which is longer than the specified 512\n",
      "Created a chunk of size 793, which is longer than the specified 512\n",
      "Created a chunk of size 533, which is longer than the specified 512\n",
      "Created a chunk of size 536, which is longer than the specified 512\n",
      "Created a chunk of size 771, which is longer than the specified 512\n",
      "Created a chunk of size 567, which is longer than the specified 512\n",
      "Created a chunk of size 752, which is longer than the specified 512\n",
      "Created a chunk of size 556, which is longer than the specified 512\n",
      "Created a chunk of size 642, which is longer than the specified 512\n",
      "Created a chunk of size 557, which is longer than the specified 512\n",
      "Created a chunk of size 537, which is longer than the specified 512\n",
      "Created a chunk of size 679, which is longer than the specified 512\n",
      "Created a chunk of size 714, which is longer than the specified 512\n",
      "Created a chunk of size 681, which is longer than the specified 512\n",
      "Created a chunk of size 517, which is longer than the specified 512\n",
      "Created a chunk of size 806, which is longer than the specified 512\n",
      "Created a chunk of size 538, which is longer than the specified 512\n",
      "Created a chunk of size 768, which is longer than the specified 512\n",
      "Created a chunk of size 618, which is longer than the specified 512\n",
      "Created a chunk of size 559, which is longer than the specified 512\n",
      "Created a chunk of size 670, which is longer than the specified 512\n",
      "Created a chunk of size 546, which is longer than the specified 512\n",
      "Created a chunk of size 605, which is longer than the specified 512\n",
      "Created a chunk of size 656, which is longer than the specified 512\n",
      "Created a chunk of size 641, which is longer than the specified 512\n",
      "Created a chunk of size 672, which is longer than the specified 512\n",
      "Created a chunk of size 716, which is longer than the specified 512\n",
      "Created a chunk of size 666, which is longer than the specified 512\n",
      "Created a chunk of size 692, which is longer than the specified 512\n",
      "Created a chunk of size 850, which is longer than the specified 512\n",
      "Created a chunk of size 539, which is longer than the specified 512\n",
      "Created a chunk of size 1084, which is longer than the specified 512\n",
      "Created a chunk of size 823, which is longer than the specified 512\n",
      "Created a chunk of size 700, which is longer than the specified 512\n",
      "Created a chunk of size 704, which is longer than the specified 512\n",
      "Created a chunk of size 628, which is longer than the specified 512\n",
      "Created a chunk of size 700, which is longer than the specified 512\n",
      "Created a chunk of size 862, which is longer than the specified 512\n",
      "Created a chunk of size 828, which is longer than the specified 512\n",
      "Created a chunk of size 757, which is longer than the specified 512\n",
      "Created a chunk of size 862, which is longer than the specified 512\n",
      "Created a chunk of size 531, which is longer than the specified 512\n",
      "Created a chunk of size 941, which is longer than the specified 512\n",
      "Created a chunk of size 829, which is longer than the specified 512\n",
      "Created a chunk of size 740, which is longer than the specified 512\n",
      "Created a chunk of size 694, which is longer than the specified 512\n",
      "Created a chunk of size 767, which is longer than the specified 512\n",
      "Created a chunk of size 556, which is longer than the specified 512\n",
      "Created a chunk of size 605, which is longer than the specified 512\n",
      "Created a chunk of size 549, which is longer than the specified 512\n",
      "Created a chunk of size 543, which is longer than the specified 512\n",
      "Created a chunk of size 585, which is longer than the specified 512\n",
      "Created a chunk of size 715, which is longer than the specified 512\n",
      "Created a chunk of size 550, which is longer than the specified 512\n",
      "Created a chunk of size 631, which is longer than the specified 512\n",
      "Created a chunk of size 546, which is longer than the specified 512\n",
      "Created a chunk of size 636, which is longer than the specified 512\n",
      "Created a chunk of size 666, which is longer than the specified 512\n",
      "Created a chunk of size 552, which is longer than the specified 512\n",
      "Created a chunk of size 663, which is longer than the specified 512\n",
      "Created a chunk of size 595, which is longer than the specified 512\n",
      "Created a chunk of size 528, which is longer than the specified 512\n",
      "Created a chunk of size 531, which is longer than the specified 512\n",
      "Created a chunk of size 515, which is longer than the specified 512\n",
      "Created a chunk of size 544, which is longer than the specified 512\n",
      "Created a chunk of size 562, which is longer than the specified 512\n",
      "Created a chunk of size 793, which is longer than the specified 512\n",
      "Created a chunk of size 610, which is longer than the specified 512\n",
      "Created a chunk of size 530, which is longer than the specified 512\n",
      "Created a chunk of size 660, which is longer than the specified 512\n",
      "Created a chunk of size 865, which is longer than the specified 512\n",
      "Created a chunk of size 870, which is longer than the specified 512\n",
      "Created a chunk of size 524, which is longer than the specified 512\n",
      "Created a chunk of size 597, which is longer than the specified 512\n",
      "Created a chunk of size 614, which is longer than the specified 512\n",
      "Created a chunk of size 665, which is longer than the specified 512\n",
      "Created a chunk of size 520, which is longer than the specified 512\n",
      "Created a chunk of size 549, which is longer than the specified 512\n",
      "Created a chunk of size 593, which is longer than the specified 512\n",
      "Created a chunk of size 589, which is longer than the specified 512\n",
      "Created a chunk of size 751, which is longer than the specified 512\n",
      "Created a chunk of size 544, which is longer than the specified 512\n",
      "Created a chunk of size 728, which is longer than the specified 512\n",
      "Created a chunk of size 548, which is longer than the specified 512\n",
      "Created a chunk of size 591, which is longer than the specified 512\n",
      "Created a chunk of size 659, which is longer than the specified 512\n",
      "Created a chunk of size 623, which is longer than the specified 512\n",
      "Created a chunk of size 543, which is longer than the specified 512\n",
      "Created a chunk of size 738, which is longer than the specified 512\n",
      "Created a chunk of size 542, which is longer than the specified 512\n",
      "Created a chunk of size 532, which is longer than the specified 512\n",
      "Created a chunk of size 708, which is longer than the specified 512\n",
      "Created a chunk of size 568, which is longer than the specified 512\n",
      "Created a chunk of size 550, which is longer than the specified 512\n",
      "Created a chunk of size 741, which is longer than the specified 512\n",
      "Created a chunk of size 543, which is longer than the specified 512\n",
      "Created a chunk of size 597, which is longer than the specified 512\n",
      "Created a chunk of size 517, which is longer than the specified 512\n",
      "Created a chunk of size 614, which is longer than the specified 512\n",
      "Created a chunk of size 899, which is longer than the specified 512\n",
      "Created a chunk of size 610, which is longer than the specified 512\n",
      "Created a chunk of size 542, which is longer than the specified 512\n",
      "Created a chunk of size 643, which is longer than the specified 512\n",
      "Created a chunk of size 1025, which is longer than the specified 512\n",
      "Created a chunk of size 656, which is longer than the specified 512\n",
      "Created a chunk of size 633, which is longer than the specified 512\n"
     ]
    }
   ],
   "source": [
    "text_splitter = CharacterTextSplitter(\n",
    "    separator = \"\\n\",\n",
    "    chunk_size = 512,\n",
    "    chunk_overlap = 32,\n",
    "    length_function = len,\n",
    ")\n",
    "\n",
    "docs = text_splitter.split_documents(docs)\n",
    "embeddings = HuggingFaceEmbeddings(\n",
    "    model_name=embeddings_path\n",
    ")"
   ]
  },
  {
   "cell_type": "code",
   "execution_count": 236,
   "metadata": {},
   "outputs": [],
   "source": [
    "db = FAISS.from_documents(docs, embeddings)"
   ]
  },
  {
   "cell_type": "code",
   "execution_count": 237,
   "metadata": {},
   "outputs": [],
   "source": [
    "retriever = db.as_retriever()"
   ]
  },
  {
   "cell_type": "code",
   "execution_count": 246,
   "metadata": {},
   "outputs": [],
   "source": [
    "with open(\"retriever.pkl\", \"wb\") as f:\n",
    "    pickle.dump(retriever, f)"
   ]
  },
  {
   "cell_type": "code",
   "execution_count": 4,
   "metadata": {},
   "outputs": [],
   "source": [
    "with open(\"retriever.pkl\", \"rb\") as f:\n",
    "    retriever = pickle.load(f)"
   ]
  },
  {
   "cell_type": "markdown",
   "metadata": {},
   "source": [
    "# RAG chain"
   ]
  },
  {
   "cell_type": "code",
   "execution_count": 253,
   "metadata": {},
   "outputs": [
    {
     "name": "stdout",
     "output_type": "stream",
     "text": [
      "Error in callback <bound method AutoreloadMagics.pre_run_cell of <IPython.extensions.autoreload.AutoreloadMagics object at 0x4486d5180>> (for pre_run_cell), with arguments args (<ExecutionInfo object at 44857eec0, raw_cell=\"del LLM\" store_history=True silent=False shell_futures=True cell_id=vscode-notebook-cell:/Users/masahirotojo/Documents/DH/rag.ipynb#Y161sZmlsZQ%3D%3D>,),kwargs {}:\n"
     ]
    },
    {
     "ename": "TypeError",
     "evalue": "AutoreloadMagics.pre_run_cell() takes 1 positional argument but 2 were given",
     "output_type": "error",
     "traceback": [
      "\u001b[0;31m---------------------------------------------------------------------------\u001b[0m",
      "\u001b[0;31mTypeError\u001b[0m                                 Traceback (most recent call last)",
      "\u001b[0;31mTypeError\u001b[0m: AutoreloadMagics.pre_run_cell() takes 1 positional argument but 2 were given"
     ]
    }
   ],
   "source": [
    "del LLM"
   ]
  },
  {
   "cell_type": "code",
   "execution_count": 33,
   "metadata": {},
   "outputs": [
    {
     "name": "stdout",
     "output_type": "stream",
     "text": [
      "Prompt Template Created\n",
      "input_variables=['context', 'question', 'source'] input_types={} partial_variables={} template='\\n        <|system|>\\n        <s>\\n        あなたは素粒子物理学のエキスパートです。\\n        次の文脈を使って、最後の質問に答えてください。: {context}\\n        そして、次のような係り受けで答える必要があります；\\n            - 答えがわからない場合は、ただわからないと言い、答えを作ろうとしないでください。\\n            - コードを表示するときはマークダウン・フォーマットを使用すること。\\n            - 適切な文法と句読点を使用すること。\\n            - ユーザーの助けになると思うのであれば、追加情報を加えてください。\\n            - 段落ごとに改行してください。\\n            - 完全な文章を使用してください。\\n            - マークダウン書式を使用する。\\n            - 専門的な用語は強調すること。\\n            - 最後に改行して使用したsourceを示す。\\n            - 答えの中で文章を繰り返さないこと。\\n            - 日本語で回答すること。\\n        </s>\\n        <|user|>\\n        <s>\\n        {question}\\n        </s>\\n        <|source|>\\n        <s>\\n        {source}\\n        </s>\\n    '\n"
     ]
    }
   ],
   "source": [
    "from helpers import LLM\n",
    "llm = LLM()"
   ]
  },
  {
   "cell_type": "code",
   "execution_count": 41,
   "metadata": {},
   "outputs": [
    {
     "data": {
      "text/markdown": [
       "# Answer\n",
       "ATLAS検出器は、LHCの4つの主要検出器の1つです。ATLAS検出器は、粒子衝突の詳細を捉えるために設計されています。検出器の構造は、以下の4つの主要部分で構成されています。\n",
       "- **Inner Detector (ID)**: これは、粒子の軌跡を捉えるための最も内側の検出器です。IDは、シリコンの微細なピクセル検出器、シリコンのストリップ検出器、トランスション・レジストリー・トラッカー（TRT）で構成されています。\n",
       "- **Calorimeters**: これらは、粒子のエネルギーを測定するための検出器です。ATLASのCalorimetersは、Electromagnetic Calorimeter（EMCal）とHadronic Calorimeter（HCal）で構成されています。\n",
       "- **Muon Spectrometer**: これは、ミューオンの検出と測定を行うための検出器です。Muon Spectrometerは、ミューオン・トラッカーとミューオン・カロリメータで構成されています。\n",
       "- **Trigger and Data Acquisition**: これは、検出器が捉えたデータを処理し、有用な情報を抽出するためのシステムです。\n",
       "\n",
       "ATLAS検出器は、LHCの13TeVの衝突エネルギーで粒子を捉えるように設計されています。このエネルギーは、素粒子物理学の研究において、新しい粒子や相互作用の発見を可能にする高エネルギー領域を探検することを目的としています。\n",
       "- **Source:** [1](https://home.cern/science/experiments/l3), [2](https://home.cern/science/experiments), [3](https://home.cern/science/engineering/restarting-lhc-why-13-tev), [4](https://home.cern/fr/science/accelerators)"
      ],
      "text/plain": [
       "<IPython.core.display.Markdown object>"
      ]
     },
     "metadata": {},
     "output_type": "display_data"
    }
   ],
   "source": [
    "question = \"ATLAS検出器の構造は？\"\n",
    "response = llm.chat(question, retriever=retriever)"
   ]
  },
  {
   "cell_type": "code",
   "execution_count": 42,
   "metadata": {},
   "outputs": [
    {
     "name": "stdout",
     "output_type": "stream",
     "text": [
      "ATLAS検出器は、LHCの4つの主要検出器の1つです。ATLAS検出器は、粒子衝突の詳細を捉えるために設計されています。検出器の構造は、以下の4つの主要部分で構成されています。\n",
      "- **Inner Detector (ID)**: これは、粒子の軌跡を捉えるための最も内側の検出器です。IDは、シリコンの微細なピクセル検出器、シリコンのストリップ検出器、トランスション・レジストリー・トラッカー（TRT）で構成されています。\n",
      "- **Calorimeters**: これらは、粒子のエネルギーを測定するための検出器です。ATLASのCalorimetersは、Electromagnetic Calorimeter（EMCal）とHadronic Calorimeter（HCal）で構成されています。\n",
      "- **Muon Spectrometer**: これは、ミューオンの検出と測定を行うための検出器です。Muon Spectrometerは、ミューオン・トラッカーとミューオン・カロリメータで構成されています。\n",
      "- **Trigger and Data Acquisition**: これは、検出器が捉えたデータを処理し、有用な情報を抽出するためのシステムです。\n",
      "\n",
      "ATLAS検出器は、LHCの13TeVの衝突エネルギーで粒子を捉えるように設計されています。このエネルギーは、素粒子物理学の研究において、新しい粒子や相互作用の発見を可能にする高エネルギー領域を探検することを目的としています。\n",
      "- **Source:** [1](https://home.cern/science/experiments/l3), [2](https://home.cern/science/experiments), [3](https://home.cern/science/engineering/restarting-lhc-why-13-tev), [4](https://home.cern/fr/science/accelerators)\n"
     ]
    }
   ],
   "source": [
    "print(response)"
   ]
  }
 ],
 "metadata": {
  "kernelspec": {
   "display_name": "venv",
   "language": "python",
   "name": "python3"
  },
  "language_info": {
   "codemirror_mode": {
    "name": "ipython",
    "version": 3
   },
   "file_extension": ".py",
   "mimetype": "text/x-python",
   "name": "python",
   "nbconvert_exporter": "python",
   "pygments_lexer": "ipython3",
   "version": "3.10.12"
  }
 },
 "nbformat": 4,
 "nbformat_minor": 2
}
